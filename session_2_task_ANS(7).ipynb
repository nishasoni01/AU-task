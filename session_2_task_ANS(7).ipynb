{
  "nbformat": 4,
  "nbformat_minor": 0,
  "metadata": {
    "colab": {
      "provenance": []
    },
    "kernelspec": {
      "name": "python3",
      "display_name": "Python 3"
    },
    "language_info": {
      "name": "python"
    }
  },
  "cells": [
    {
      "cell_type": "markdown",
      "source": [
        "### `Problem 1`: Write a program that will give you in hand monthly salary after deduction on CTC - HRA(10%), DA(5%), PF(3%) and taxes deduction as below:\n",
        "\n",
        "> Salary(Lakhs) : Tax(%)\n",
        "\n",
        "*   Below 5 : 0%\n",
        "*   5-10 : 10%\n",
        "*   10-20 : 20%\n",
        "*   aboove 20 : 30%"
      ],
      "metadata": {
        "id": "w6RlOAXV2PWh"
      }
    },
    {
      "cell_type": "code",
      "source": [
        "# Write code here\n",
        "ctc_lakhs = float(input(\"Enter your annual CTC: \"))\n",
        "ctc = ctc_lakhs * 100000\n",
        "\n",
        "hra = ctc * 0.10\n",
        "da = ctc * 0.05\n",
        "pf = ctc * 0.03\n",
        "\n",
        "total_deductions = hra + da + pf\n",
        "salary_after_deductions = ctc - total_deductions\n",
        "\n",
        "if ctc_lakhs < 5:\n",
        "    tax_rate = 0\n",
        "elif ctc_lakhs <= 10:\n",
        "    tax_rate = 0.10\n",
        "elif ctc_lakhs <= 20:\n",
        "    tax_rate = 0.20\n",
        "else:\n",
        "    tax_rate = 0.30\n",
        "\n",
        "tax_amount = salary_after_deductions * tax_rate\n",
        "\n",
        "in_hand_annual = salary_after_deductions - tax_amount\n",
        "in_hand_monthly = in_hand_annual / 12\n",
        "\n",
        "\n",
        "print(\"Annual In-Hand Salary: ₹\", round(in_hand_annual, 2))\n",
        "print(\"Monthly In-Hand Salary: ₹\", round(in_hand_monthly, 2))\n"
      ],
      "metadata": {
        "id": "7tMHvKYO2etI",
        "colab": {
          "base_uri": "https://localhost:8080/"
        },
        "outputId": "40700dc4-bf9f-4f28-d8af-20687775e5a6"
      },
      "execution_count": null,
      "outputs": [
        {
          "output_type": "stream",
          "name": "stdout",
          "text": [
            "Enter your annual CTC: 12\n",
            "Annual In-Hand Salary: ₹ 787200.0\n",
            "Monthly In-Hand Salary: ₹ 65600.0\n"
          ]
        }
      ]
    },
    {
      "cell_type": "markdown",
      "source": [
        "### `Problem 2`: Write a program that take a user input of three angles and will find out whether it can form a triangle or not."
      ],
      "metadata": {
        "id": "tYzCGqwl2hfN"
      }
    },
    {
      "cell_type": "code",
      "source": [
        "# Write code here\n",
        "first_angle = float(input(\"enter first angle of triangle: \"))\n",
        "second_angle = float(input(\"enter second angle of triangle: \"))\n",
        "third_angle = float(input(\"enter third angle of triangle: \"))\n",
        "result = first_angle + second_angle + third_angle\n",
        "if result == 180 :\n",
        "  print(\"it is a triangle\")\n",
        "else:\n",
        "  print(\"it is not a triangle\")"
      ],
      "metadata": {
        "id": "FYEqln-I2kxV"
      },
      "execution_count": null,
      "outputs": []
    },
    {
      "cell_type": "markdown",
      "source": [
        "### `Problem 3`: Write a program that will take user input of cost price and selling price and determines whether its a loss or a profit."
      ],
      "metadata": {
        "id": "5vEpPh8C2pE4"
      }
    },
    {
      "cell_type": "code",
      "source": [
        "# Write code here\n",
        "cost_price = float(input(\"enter cost price of product: \"))\n",
        "selling_price = float(input(\"enter selling price: \"))\n",
        "if selling_price > cost_price :\n",
        "  print(\"got profit\")\n",
        "elif selling_price <  cost_price :\n",
        "   print(\"loss\")\n",
        "else:\n",
        "  print(\"no profit , no loss\")"
      ],
      "metadata": {
        "id": "jDwBXlkO2sfl"
      },
      "execution_count": null,
      "outputs": []
    },
    {
      "cell_type": "markdown",
      "source": [
        "### `Problem 4`: Write a menu-driven program -\n",
        "1. cm to ft\n",
        "2. km to miles\n",
        "3. USD to INR\n",
        "4. exit"
      ],
      "metadata": {
        "id": "J_FG_cJW2ugT"
      }
    },
    {
      "cell_type": "code",
      "source": [
        "# Write code here\n",
        "\n",
        "\n",
        "choice = input(\"Enter your choice (1-4): \")\n",
        "\n",
        "if choice == '1':\n",
        "        cm = float(input(\"Enter length in cm: \"))\n",
        "        feet = cm / 30.48\n",
        "        print(\"the length is feet: \", feet)\n",
        "\n",
        "elif choice == '2':\n",
        "        km = float(input(\"Enter distance in km: \"))\n",
        "        miles = km * 0.621371\n",
        "        print(\"the distance in miles\", mines)\n",
        "elif choice == '3':\n",
        "        usd = float(input(\"Enter amount in USD: \"))\n",
        "        inr = usd * 83.0\n",
        "        print(\" the amount is inr\", inr)\n",
        "\n",
        "elif choice == '4':\n",
        "        print(\"Exiting the program. Be happy\")\n",
        "\n",
        "else:\n",
        "        print(\"Invalid choice. Please enter a number between 1 and 4.\")\n"
      ],
      "metadata": {
        "id": "yBHhaCGQ2zpD",
        "colab": {
          "base_uri": "https://localhost:8080/"
        },
        "outputId": "e8eb8217-9206-442f-fd24-bdbcb4bafe80"
      },
      "execution_count": null,
      "outputs": [
        {
          "output_type": "stream",
          "name": "stdout",
          "text": [
            "Enter your choice (1-4): 1\n",
            "Enter length in cm: 100\n",
            "the length is feet:  3.2808398950131235\n"
          ]
        }
      ]
    },
    {
      "cell_type": "markdown",
      "source": [
        "### `Problem 5` - Exercise 12: Display Fibonacci series up to 10 terms.\n",
        "\n",
        "*Note: The Fibonacci Sequence is a series of numbers. The next number is found by adding up the two numbers before it. The first two numbers are 0 and 1. For example, 0, 1, 1, 2, 3, 5, 8, 13, 21. The next number in this series above is 13+21 = 34*"
      ],
      "metadata": {
        "id": "LJJ30_Yw27ZU"
      }
    },
    {
      "cell_type": "code",
      "source": [
        "# Write code here\n",
        "first_num = 0\n",
        "second_num = 1\n",
        "print(first_num)\n",
        "print(second_num)\n",
        "for i in range(10):\n",
        "   third_number = first_num + second_num\n",
        "   first_num = second_num\n",
        "   second_num = third_number\n",
        "   print(third_number)"
      ],
      "metadata": {
        "id": "ae_1rpe52-5R",
        "colab": {
          "base_uri": "https://localhost:8080/"
        },
        "outputId": "7afff59d-5aa9-493e-b97a-d106eea50885"
      },
      "execution_count": null,
      "outputs": [
        {
          "output_type": "stream",
          "name": "stdout",
          "text": [
            "0\n",
            "1\n",
            "1\n",
            "2\n",
            "3\n",
            "5\n",
            "8\n",
            "13\n",
            "21\n",
            "34\n",
            "55\n",
            "89\n"
          ]
        }
      ]
    },
    {
      "cell_type": "markdown",
      "source": [
        "### `Problem 6` - Find the factorial of a given number.\n",
        "\n",
        "Write a program to use the loop to find the factorial of a given number.\n",
        "\n",
        "The factorial (symbol: `!`) means to multiply all whole numbers from the chosen number down to 1.\n",
        "\n",
        "For example: calculate the factorial of 5\n",
        "\n",
        "```bash\n",
        "5! = 5 × 4 × 3 × 2 × 1 = 120\n",
        "```\n",
        "\n",
        "Output:\n",
        "\n",
        "```bash\n",
        "120\n",
        "```"
      ],
      "metadata": {
        "id": "pk_I_S4m3PT5"
      }
    },
    {
      "cell_type": "code",
      "source": [
        "# Write code here\n",
        "num = int(input(\"enter the number: \"))\n",
        "i = 1\n",
        "fact = 1\n",
        "while i <= num :\n",
        "   fact *= i\n",
        "   i = i + 1\n",
        "print(fact)"
      ],
      "metadata": {
        "id": "lzXxHegx3Rkc"
      },
      "execution_count": null,
      "outputs": []
    },
    {
      "cell_type": "markdown",
      "source": [
        "### `Problem 7` - Reverse a given integer number.\n",
        "\n",
        "Example:\n",
        "\n",
        "`Input:`\n",
        "\n",
        "```bash\n",
        "76542\n",
        "```\n",
        "\n",
        "`Output:`\n",
        "\n",
        "```bash\n",
        "24567\n",
        "```"
      ],
      "metadata": {
        "id": "-17IOi-g3UpU"
      }
    },
    {
      "cell_type": "code",
      "source": [
        "# Write code here\n",
        "num1 = int(input(\"enter a number : \"))\n",
        "i = 0\n",
        "rev = 0\n",
        "while i <= num1:\n",
        "  m = num1 % 10\n",
        "  rev = rev * 10 + m\n",
        "  num1 = num1 // 10\n",
        "  i = i + 1\n",
        "print(rev)\n"
      ],
      "metadata": {
        "id": "wJwLpKCr3aVA"
      },
      "execution_count": null,
      "outputs": []
    },
    {
      "cell_type": "markdown",
      "source": [
        "### `Problem 8`: Take a user input as integer N. Find out the sum from 1 to N. If any number if divisible by 5, then skip that number. And if the sum is greater than 300, don't need to calculate the sum further more. Print the final result. And don't use for loop to solve this problem.\n",
        "\n",
        "**Example 1:**\n",
        "\n",
        "`Input:`\n",
        "\n",
        "```bash\n",
        "30\n",
        "```\n",
        "\n",
        "`Output:`\n",
        "\n",
        "```bash\n",
        "276\n",
        "```"
      ],
      "metadata": {
        "id": "-t8PJQaY3sHf"
      }
    },
    {
      "cell_type": "code",
      "source": [
        "# Write code here\n",
        "Num = int(input(\"Enter a number N: \"))\n",
        "\n",
        "total_sum = 0\n",
        "i = 1\n",
        "\n",
        "while i <= Num:\n",
        "    if i % 5 == 0:\n",
        "        i += 1\n",
        "        continue\n",
        "    total_sum += i\n",
        "    if total_sum > 300:\n",
        "        break\n",
        "    i += 1\n",
        "\n",
        "print(\"Final sum:\", total_sum)\n"
      ],
      "metadata": {
        "id": "GZB6mGMP3ujT",
        "colab": {
          "base_uri": "https://localhost:8080/"
        },
        "outputId": "7b1131f4-fe75-4eff-870e-4f3b1763b840"
      },
      "execution_count": null,
      "outputs": [
        {
          "output_type": "stream",
          "name": "stdout",
          "text": [
            "Enter a number N: 4\n",
            "Final sum: 10\n"
          ]
        }
      ]
    },
    {
      "cell_type": "markdown",
      "source": [
        "### `Problem 9`: Write a program that keeps on accepting a number from the user until the user enters Zero. Display the sum and average of all the numbers."
      ],
      "metadata": {
        "id": "Q7ggImeA3xm4"
      }
    },
    {
      "cell_type": "code",
      "source": [
        "# Write code here\n",
        "sum_numbers = 0\n",
        "count = 0\n",
        "while True:\n",
        "    num = float(input(\"Enter a number (if you want stop then give 0): \"))\n",
        "    if num == 0:\n",
        "     break\n",
        "    sum_numbers = sum_numbers + num\n",
        "    count = count + 1\n",
        "if count == 0:\n",
        "    print(\"No numbers entered.\")\n",
        "else:\n",
        "    average = sum_numbers / count\n",
        "    print(\"Sum:\", sum_numbers)\n",
        "    print(\"Average:\", average)\n"
      ],
      "metadata": {
        "id": "t_YDSZDe4Kdo",
        "colab": {
          "base_uri": "https://localhost:8080/"
        },
        "outputId": "81feceff-cc19-4cd9-e25b-13b96a632c0f"
      },
      "execution_count": null,
      "outputs": [
        {
          "output_type": "stream",
          "name": "stdout",
          "text": [
            "Enter a number (if you want stop then give 0): 1\n",
            "Enter a number (if you want stop then give 0): 2\n",
            "Enter a number (if you want stop then give 0): 3\n",
            "Enter a number (if you want stop then give 0): 0\n",
            "Sum: 6.0\n",
            "Average: 2.0\n"
          ]
        }
      ]
    },
    {
      "cell_type": "markdown",
      "source": [
        "###`Problem 9`: Write a program which will find all such numbers which are divisible by 7 but are not a multiple of 5, between 2000 and 3200 (both included). The numbers obtained should be printed in a comma-separated sequence on a single line."
      ],
      "metadata": {
        "id": "6EhvEMvm4R7s"
      }
    },
    {
      "cell_type": "code",
      "source": [
        "# Write code here\n",
        "for num in range(2000, 3201):\n",
        "    if num % 7 == 0 and num % 5 != 0:\n",
        "        print(num, end=\",\")\n"
      ],
      "metadata": {
        "id": "d6RgP1B34T6c",
        "colab": {
          "base_uri": "https://localhost:8080/"
        },
        "outputId": "71c7c7ed-23ba-453e-f57a-70390d3dc16c"
      },
      "execution_count": null,
      "outputs": [
        {
          "output_type": "stream",
          "name": "stdout",
          "text": [
            "2002,2009,2016,2023,2037,2044,2051,2058,2072,2079,2086,2093,2107,2114,2121,2128,2142,2149,2156,2163,2177,2184,2191,2198,2212,2219,2226,2233,2247,2254,2261,2268,2282,2289,2296,2303,2317,2324,2331,2338,2352,2359,2366,2373,2387,2394,2401,2408,2422,2429,2436,2443,2457,2464,2471,2478,2492,2499,2506,2513,2527,2534,2541,2548,2562,2569,2576,2583,2597,2604,2611,2618,2632,2639,2646,2653,2667,2674,2681,2688,2702,2709,2716,2723,2737,2744,2751,2758,2772,2779,2786,2793,2807,2814,2821,2828,2842,2849,2856,2863,2877,2884,2891,2898,2912,2919,2926,2933,2947,2954,2961,2968,2982,2989,2996,3003,3017,3024,3031,3038,3052,3059,3066,3073,3087,3094,3101,3108,3122,3129,3136,3143,3157,3164,3171,3178,3192,3199,"
          ]
        }
      ]
    },
    {
      "cell_type": "markdown",
      "source": [
        "###`Problem 10`: Write a program, which will find all such numbers between 1000 and 3000 (both included) such that each digit of the number is an even number. The numbers obtained should be printed in a space-separated sequence on a single line.\n",
        "\n"
      ],
      "metadata": {
        "id": "tYvmRR-G4Vp4"
      }
    },
    {
      "cell_type": "code",
      "source": [
        "# Write code here\n",
        "for num in range(1000, 3001):\n",
        "    num_str = str(num)\n",
        "    all_even = True\n",
        "    for digit in num_str:\n",
        "        if int(digit) % 2 != 0:\n",
        "            all_even = False\n",
        "            break\n",
        "    if all_even == True:\n",
        "        print(num, end=\" \")\n",
        "\n"
      ],
      "metadata": {
        "id": "k6Gs1kIf4k19"
      },
      "execution_count": null,
      "outputs": []
    },
    {
      "cell_type": "markdown",
      "source": [
        "###`Problem 11`: A robot moves in a plane starting from the original point (0,0). The robot can move toward UP, DOWN, LEFT and RIGHT with a given steps.\n",
        "The trace of robot movement is shown as the following:\n",
        "```\n",
        "UP 5\n",
        "DOWN 3\n",
        "LEFT 3\n",
        "RIGHT 2\n",
        "!\n",
        "```\n",
        "> The numbers after the direction are steps.\n",
        "\n",
        "> `!` means robot stop there.\n",
        "\n",
        "**Please write a program to compute the distance from current position after a sequence of movement and original point.**\n",
        "\n",
        "*If the distance is a float, then just print the nearest integer.*\n",
        "\n",
        "Example:\n",
        "\n",
        "`Input`:\n",
        "```\n",
        "UP 5\n",
        "DOWN 3\n",
        "LEFT 3\n",
        "RIGHT 2\n",
        "!\n",
        "```\n",
        "`Output`:\n",
        "```\n",
        "2\n",
        "```"
      ],
      "metadata": {
        "id": "GV18IINT4mf5"
      }
    },
    {
      "cell_type": "code",
      "source": [
        "# Write code here\n",
        "import math\n",
        "up = float(input(\"enter value of up: \"))\n",
        "down = float(input(\"enter value of down: \"))\n",
        "left = float(input(\"enter value of left: \"))\n",
        "right = float(input(\"enter value of right: \"))\n",
        "distance = round(math.sqrt((down - up)**2 + (right - left) ** 2))\n",
        "print(\"the euclidean distance: \", distance)"
      ],
      "metadata": {
        "id": "6UNMC2aR4w5x",
        "colab": {
          "base_uri": "https://localhost:8080/"
        },
        "outputId": "c6dbb126-4d49-42d3-b73e-258baf7fe244"
      },
      "execution_count": 3,
      "outputs": [
        {
          "output_type": "stream",
          "name": "stdout",
          "text": [
            "enter value of x1: 5\n",
            "enter value of x2: 3\n",
            "enter value of y1: 3\n",
            "enter value of y2: 2\n",
            "the euclidean distance:  2\n"
          ]
        }
      ]
    },
    {
      "cell_type": "markdown",
      "source": [
        "###`Problem 12`:Write a program to print whether a given number is a prime number or not"
      ],
      "metadata": {
        "id": "3fsAIAhK5GYY"
      }
    },
    {
      "cell_type": "code",
      "source": [
        "# Write code here\n",
        "num = int(input(\"Enter a number: \"))\n",
        "\n",
        "if num <= 1:\n",
        "  print(num, \"is not prime\")\n",
        "else:\n",
        "  prime = True\n",
        "  i = 2\n",
        "  while i < num:\n",
        "        if num % i == 0:\n",
        "            prime = False\n",
        "            break\n",
        "        i += 1\n",
        "  if prime:\n",
        "        print(num, \"is prime\")\n",
        "  else:\n",
        "        print(num, \"is not prime\")\n"
      ],
      "metadata": {
        "id": "j6y91lxy5LZs",
        "colab": {
          "base_uri": "https://localhost:8080/"
        },
        "outputId": "881b1170-3683-44af-d2ce-69c20f75ffdb"
      },
      "execution_count": null,
      "outputs": [
        {
          "output_type": "stream",
          "name": "stdout",
          "text": [
            "Enter a number: 12\n",
            "12 is not prime\n"
          ]
        }
      ]
    },
    {
      "cell_type": "markdown",
      "source": [
        "###`Problem 13`:Print all the Armstrong numbers in a given range.\n",
        "Range will be provided by the user<br>\n",
        "Armstrong number is a number that is equal to the sum of cubes of its digits. For example 0, 1, 153, 370, 371 and 407 are the Armstrong numbers."
      ],
      "metadata": {
        "id": "asAbmbK-5NHv"
      }
    },
    {
      "cell_type": "code",
      "source": [
        "start = int(input(\"Enter start of range: \"))\n",
        "end = int(input(\"Enter end of range: \"))\n",
        "\n",
        "for num in range(start, end + 1):\n",
        "    order = len(str(num))\n",
        "    sum = 0\n",
        "    temp = num\n",
        "    while temp > 0:\n",
        "        digit = temp % 10\n",
        "        sum += digit ** order\n",
        "        temp = temp // 10  # Fix: assign the result back to temp\n",
        "    if sum == num:\n",
        "        print(num)\n"
      ],
      "metadata": {
        "id": "PZuI67pm5jCT",
        "colab": {
          "base_uri": "https://localhost:8080/"
        },
        "outputId": "a7f6d374-9cec-4094-88e5-d8a7be8230de"
      },
      "execution_count": null,
      "outputs": [
        {
          "output_type": "stream",
          "name": "stdout",
          "text": [
            "Enter start of range: 100\n",
            "Enter end of range: 1000\n",
            "153\n",
            "370\n",
            "371\n",
            "407\n"
          ]
        }
      ]
    },
    {
      "cell_type": "markdown",
      "source": [
        "###`Problem 14`:Calculate the angle between the hour hand and minute hand.\n",
        "\n",
        "Note: There can be two angles between hands; we need to print a minimum of two. Also, we need to print the floor of the final result angle. For example, if the final angle is 10.61, we need to print 10.\n",
        "\n",
        "Input:<br>\n",
        "H = 9 , M = 0<br>\n",
        "Output:<br>\n",
        "90<br>\n",
        "Explanation:<br>\n",
        "The minimum angle between hour and minute\n",
        "hand when the time is 9 is 90 degress."
      ],
      "metadata": {
        "id": "ClCQZMqT7gK0"
      }
    },
    {
      "cell_type": "code",
      "source": [
        "# Write code here\n",
        "# 30 × H + 0.5 × M\n",
        "hour = int(input(\"enter the hour:\"))\n",
        "min = int(input(\"enter the minut:\"))\n",
        "hour_angle = (30 * hour)+ (0.5 * min)\n",
        "min_angle = 6 * min\n",
        "difference = hour_angle - min_angle\n",
        "minimum_angle = 360 - difference\n",
        "print(round(minimum_angle))"
      ],
      "metadata": {
        "id": "tNBTCZML7jy_",
        "colab": {
          "base_uri": "https://localhost:8080/"
        },
        "outputId": "d001042f-c2ed-4745-ad95-a59d87cce667"
      },
      "execution_count": 4,
      "outputs": [
        {
          "output_type": "stream",
          "name": "stdout",
          "text": [
            "enter the hour:9\n",
            "enter the minut:0\n",
            "90\n"
          ]
        }
      ]
    },
    {
      "cell_type": "markdown",
      "source": [
        "###`Problem 15`:Given two rectangles, find if the given two rectangles overlap or not. A rectangle is denoted by providing the x and y coordinates of two points: the left top corner and the right bottom corner of the rectangle. Two rectangles sharing a side are considered overlapping. (L1 and R1 are the extreme points of the first rectangle and L2 and R2 are the extreme points of the second rectangle).\n",
        "\n",
        "Note: It may be assumed that the rectangles are parallel to the coordinate axis.\n",
        "\n",
        "<img src='https://www.geeksforgeeks.org/wp-content/uploads/rectanglesOverlap.png' width='300' height='200'>"
      ],
      "metadata": {
        "id": "GwacF9Co72Qc"
      }
    },
    {
      "cell_type": "code",
      "source": [
        "# Write code here\n",
        "# first rectangle\n",
        "L1X = int(input(\"enter L1X:9\"))\n",
        "L1Y = int(input(\"enter L1Y:\"))\n",
        "R1X = int(input(\"enter R1X:\"))\n",
        "R1Y = int(input(\"enter R1Y:\"))\n",
        "\n",
        "#second rectangle\n",
        "L2X = int(input(\"enter L2X:\"))\n",
        "L2Y = int(input(\"enter L2Y:\"))\n",
        "R2X = int(input(\"enter R2X:\"))\n",
        "R2Y = int(input(\"enter R2Y:\"))\n",
        "if R1X < L2X or R2X < L1X:\n",
        "    print(\"Rectangles Do Not Overlap\")\n",
        "elif L1Y < R2Y or L2Y < R1Y:\n",
        "    print(\"Rectangles Do Not Overlap\")\n",
        "else:\n",
        "    print(\"Rectangles Overlap\")\n"
      ],
      "metadata": {
        "id": "6rrw_lpH78Rs",
        "colab": {
          "base_uri": "https://localhost:8080/"
        },
        "outputId": "8bcb4a71-177a-4a1b-d74d-78f962b826e0"
      },
      "execution_count": 6,
      "outputs": [
        {
          "output_type": "stream",
          "name": "stdout",
          "text": [
            "enter L1X:0\n",
            "enter L1Y:3\n",
            "enter R1X:5\n",
            "enter R1Y:6\n",
            "enter L2X:8\n",
            "enter L2Y:6\n",
            "enter R2X:8\n",
            "enter R2Y:9\n",
            "Rectangles Do Not Overlap\n"
          ]
        }
      ]
    }
  ]
}