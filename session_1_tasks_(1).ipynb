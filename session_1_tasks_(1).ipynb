{
  "nbformat": 4,
  "nbformat_minor": 0,
  "metadata": {
    "colab": {
      "provenance": []
    },
    "kernelspec": {
      "name": "python3",
      "display_name": "Python 3"
    },
    "language_info": {
      "name": "python"
    }
  },
  "cells": [
    {
      "cell_type": "markdown",
      "source": [
        "# Task : Session 1\n",
        "Solve these questions own your own and try to test yourself what you have learned in the session.\n",
        "\n",
        "Happy Learning!"
      ],
      "metadata": {
        "id": "A05OG15VqOPF"
      }
    },
    {
      "cell_type": "markdown",
      "source": [
        "### Q1 :- Print the given strings as per stated format.\n",
        "\n",
        "**Given strings**:\n",
        "```\n",
        "\"Data\" \"Science\" \"Mentorship\" \"Program\"\n",
        "\"By\" \"CampusX\"\n",
        "```\n",
        "**Output**:\n",
        "```\n",
        "Data-Science-Mentorship-Program-started-By-CampusX\n",
        "```\n",
        "\n",
        "Concept- [Seperator and End]"
      ],
      "metadata": {
        "id": "2doIXf8bqe9_"
      }
    },
    {
      "cell_type": "code",
      "source": [
        "# Write your code here\n",
        "print(\"Data\" , \"Science\", \"Mentorship\", \"Program\"\n",
        "\"By\" ,\"CampusX\" ,sep=\"-\")"
      ],
      "metadata": {
        "id": "-em6d3KErDtp",
        "outputId": "e06e5a26-633e-4fa2-e11d-fef7e7c7615a",
        "colab": {
          "base_uri": "https://localhost:8080/"
        }
      },
      "execution_count": null,
      "outputs": [
        {
          "output_type": "stream",
          "name": "stdout",
          "text": [
            "Data-Science-Mentorship-ProgramBy-CampusX\n"
          ]
        }
      ]
    },
    {
      "cell_type": "markdown",
      "source": [
        "### Q2:- Write a program that will convert celsius value to fahrenheit."
      ],
      "metadata": {
        "id": "1KUpN7ZTrC3_"
      }
    },
    {
      "cell_type": "code",
      "source": [
        "# Write your code here\n",
        "num = int(input(\"enter value is celsius:\"))\n",
        "result = (num * 9/5 ) + 32\n",
        "print(result)"
      ],
      "metadata": {
        "id": "yxKYhYQiqWfj"
      },
      "execution_count": null,
      "outputs": []
    },
    {
      "cell_type": "markdown",
      "source": [
        "### Q3:- Take 2 numbers as input from the user.Write a program to swap the numbers without using any special python syntax."
      ],
      "metadata": {
        "id": "RLrOBBJurLB2"
      }
    },
    {
      "cell_type": "code",
      "source": [
        "# Write your code here\n",
        "num1 = int(input(\"enter first number\"))\n",
        "num2 = int(input(\"enter second number\"))\n",
        "print(\"the first number is:\",num1)\n",
        "print(\"the second number is:\",num2)\n",
        "temp = num1\n",
        "num1 = num2\n",
        "num2 = temp\n",
        "print(\"numbers after swapping:\")\n",
        "print(num1 , num2)"
      ],
      "metadata": {
        "id": "yPn7if0TrJ4F"
      },
      "execution_count": null,
      "outputs": []
    },
    {
      "cell_type": "markdown",
      "source": [
        "### Q4:- Write a program to find the euclidean distance between two coordinates.Take both the coordinates from the user as input."
      ],
      "metadata": {
        "id": "waLCP1bjr7ML"
      }
    },
    {
      "cell_type": "code",
      "source": [
        "# Write your code here\n",
        "import math\n",
        "x1 = float(input(\"enter value of x1: \"))\n",
        "x2 = float(input(\"enter value of x2: \"))\n",
        "y1 = float(input(\"enter value of y1: \"))\n",
        "y2 = float(input(\"enter value of y2: \"))\n",
        "distance = math.sqrt((x2 - x1)**2 + (y2 - y1) ** 2)\n",
        "print(\"the euclidean distance: \", distance)"
      ],
      "metadata": {
        "id": "Pl1Sv-xnrxnH"
      },
      "execution_count": null,
      "outputs": []
    },
    {
      "cell_type": "markdown",
      "source": [
        "### Q5:- Write a program to find the simple interest when the value of principle,rate of interest and time period is provided by the user.\n"
      ],
      "metadata": {
        "id": "VLrhg-FRsHjR"
      }
    },
    {
      "cell_type": "code",
      "source": [
        "# Write your code here\n",
        "principle = int(input(\"enter the principle:\"))\n",
        "rate = int(input(\"enter the rate: \"))\n",
        "time = int (input(\"enter the time: \"))\n",
        "result = (principle * rate * time )/100\n",
        "print(\"the simple interest is:\", result)"
      ],
      "metadata": {
        "id": "s40DlReZsTmY"
      },
      "execution_count": null,
      "outputs": []
    },
    {
      "cell_type": "markdown",
      "source": [
        "### Q6:- Write a program that will tell the number of dogs and chicken are there when the user will provide the value of total heads and legs.\n",
        "\n",
        "For example:\n",
        "Input:\n",
        "heads -> 4\n",
        "legs -> 12\n",
        "<br>\n",
        "Output:\n",
        "dogs -> 2\n",
        "chicken -> 2\n",
        "\n",
        "\n",
        "\n"
      ],
      "metadata": {
        "id": "LMy0BTUktYKa"
      }
    },
    {
      "cell_type": "code",
      "source": [
        "# Write your code here\n",
        "heads = int(input(\"Enter total heads: \"))\n",
        "legs = int(input(\"Enter total legs: \"))\n",
        "\n",
        "for chickens in range(heads + 1):\n",
        "    dogs = heads - chickens\n",
        "\n",
        "    total_legs = (chickens * 2) + (dogs * 4)\n",
        "\n",
        "    if total_legs == legs:\n",
        "        print(\"Chickens:\", chickens)\n",
        "        print(\"Dogs:\", dogs)\n",
        "        break\n",
        "else:\n",
        "    print(\"No correct answer found.\")\n"
      ],
      "metadata": {
        "id": "XSBvJoA4tXaG"
      },
      "execution_count": null,
      "outputs": []
    },
    {
      "cell_type": "markdown",
      "source": [
        "### Q7:- Write a program to find the sum of squares of first n natural numbers where n will be provided by the user."
      ],
      "metadata": {
        "id": "gJ7C5kZYt4BP"
      }
    },
    {
      "cell_type": "code",
      "source": [
        "# Write your code here\n",
        "num = int(input(\"enter the number:\" ))\n",
        "i = 0\n",
        "sum = 0\n",
        "while i<=num :\n",
        "  squre = i *  i\n",
        "  sum = sum + squre\n",
        "  i = i + 1\n",
        "print(sum)\n"
      ],
      "metadata": {
        "id": "_tHsmEHzt2nX",
        "colab": {
          "base_uri": "https://localhost:8080/"
        },
        "outputId": "b2d8cc06-a6ff-4d2a-d6cf-6b4931bf52b6"
      },
      "execution_count": null,
      "outputs": [
        {
          "output_type": "stream",
          "name": "stdout",
          "text": [
            "enter the number:2\n",
            "5\n"
          ]
        }
      ]
    },
    {
      "cell_type": "markdown",
      "source": [
        "### Q8:- Given the first 2 terms of an Arithmetic Series.Find the Nth term of the series. Assume all inputs are provided by the user."
      ],
      "metadata": {
        "id": "FHrMM7g-yG1h"
      }
    },
    {
      "cell_type": "code",
      "source": [
        "# Write your code here\n",
        "firstTerm = int(input(\"enter first term: \"))\n",
        "secondTerm = int(input(\"enter second term: \"))\n",
        "NthTerm = int(input(\"enter Nth term: \"))\n",
        "difference = secondTerm - firstTerm\n",
        "n_thTerm = firstTerm + (NthTerm - 1 ) * difference\n",
        "print(\"the arithmeti series : \", n_thTerm)"
      ],
      "metadata": {
        "id": "go4_kmZmyVSx",
        "colab": {
          "base_uri": "https://localhost:8080/"
        },
        "outputId": "1cf6d3c4-f1ea-4735-e66f-a660a5c4bb93"
      },
      "execution_count": null,
      "outputs": [
        {
          "output_type": "stream",
          "name": "stdout",
          "text": [
            "enter first term: 2\n",
            "enter second term: 5\n",
            "enter Nth term: 3\n",
            "the arithmeti series :  8\n"
          ]
        }
      ]
    },
    {
      "cell_type": "markdown",
      "source": [
        "### Q9:- Given 2 fractions, find the sum of those 2 fractions.Take the numerator and denominator values of the fractions from the user."
      ],
      "metadata": {
        "id": "QgyRX_es1oum"
      }
    },
    {
      "cell_type": "code",
      "source": [
        "# Write your code here\n",
        "numerator = int(input(\"enter the value of numerator of first fraction:\"))\n",
        "denominator = int(input(\"enter the value of denominator of first fraction:\"))\n",
        "numerator1 = int(input(\"enter the value of numerator of second fraction:\"))\n",
        "denominator1 = int(input(\"enter the value of denominator of second fraction:\"))\n",
        "\n",
        "fraction1 = numerator / denominator\n",
        "fraction2 = numerator1 / denominator1\n",
        "\n",
        "sum = fraction1 + fraction2\n",
        "print(sum)\n"
      ],
      "metadata": {
        "id": "X05xqFS1yW16"
      },
      "execution_count": null,
      "outputs": []
    },
    {
      "cell_type": "markdown",
      "source": [
        "### Q10:- Given the height, width and breadth of a milk tank, you have to find out how many glasses of milk can be obtained? Assume all the inputs are provided by the user.\n",
        "\n",
        "\n",
        "\n",
        "Input:<br>\n",
        "Dimensions of the milk tank<br>\n",
        "H = 20cm, L = 20cm, B = 20cm\n",
        "<br><br>\n",
        "Dimensions of the glass<br>\n",
        "h = 3cm, r = 1cm"
      ],
      "metadata": {
        "id": "eaql38ln13u7"
      }
    },
    {
      "cell_type": "code",
      "source": [
        "# Write your code here\n",
        "height = int(input(\"enter the height of milk tank\"))\n",
        "width = int(input(\"enter the width of milk tank\"))\n",
        "breadth = int(input(\"enter the breadth of milk tank\"))\n",
        "height1 = int(input(\"enter the height of glass\"))\n",
        "radies = int(input(\"enter the radies\"))\n",
        "# volume of glass\n",
        "volume_glass = 3.14 * height1 * radies * radies\n",
        "#valume of tank\n",
        "volume_tank = height * width * breadth\n",
        "# number of glass\n",
        "number_of_glass = volume_tank // volume_glass\n",
        "print(\"the number of glass are :\" , number_of_glass)"
      ],
      "metadata": {
        "id": "FePZqno74eWv"
      },
      "execution_count": null,
      "outputs": []
    }
  ]
}